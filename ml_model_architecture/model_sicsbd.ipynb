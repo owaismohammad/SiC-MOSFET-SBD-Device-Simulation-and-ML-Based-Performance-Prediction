{
 "cells": [
  {
   "cell_type": "code",
   "execution_count": 139,
   "id": "ec4dd61b",
   "metadata": {},
   "outputs": [],
   "source": [
    "import torch\n",
    "import torch.nn as nn"
   ]
  },
  {
   "cell_type": "code",
   "execution_count": 2,
   "id": "8e30ba31",
   "metadata": {},
   "outputs": [
    {
     "name": "stdout",
     "output_type": "stream",
     "text": [
      "Writing dualbranchconvolution.py\n"
     ]
    }
   ],
   "source": [
    "%%writefile dualbranchconvolution.py\n",
    "import torch\n",
    "import torch.nn as nn\n",
    "class DualConv(nn.Module):\n",
    "    def __init__(self, in_channels:int):\n",
    "        super().__init__()\n",
    "        self.conv1 = nn.Sequential(\n",
    "            nn.Conv1d(in_channels=in_channels, out_channels=in_channels, kernel_size=3,stride=1, padding=1),\n",
    "            nn.BatchNorm1d(in_channels),\n",
    "            nn.ReLU(),\n",
    "            nn.Conv1d(in_channels=in_channels, out_channels=in_channels, kernel_size=3,stride=1, padding=1),\n",
    "            nn.BatchNorm1d(in_channels),\n",
    "            nn.ReLU(),\n",
    "            nn.Conv1d(in_channels=in_channels, out_channels=in_channels, kernel_size=3,stride=1, padding=1),\n",
    "            nn.BatchNorm1d(in_channels),\n",
    "            nn.ReLU()\n",
    "        )\n",
    "        self.conv2 = nn.Sequential(\n",
    "            nn.Conv1d(in_channels=in_channels, out_channels=in_channels, kernel_size=5,stride=1, padding=2),\n",
    "            nn.BatchNorm1d(in_channels),\n",
    "            nn.ReLU(),\n",
    "            nn.Conv1d(in_channels=in_channels, out_channels=in_channels, kernel_size=5,stride=1, padding=2),\n",
    "            nn.BatchNorm1d(in_channels),\n",
    "            nn.ReLU(),\n",
    "            nn.Conv1d(in_channels=in_channels, out_channels=in_channels, kernel_size=5,stride=1, padding=2),\n",
    "            nn.BatchNorm1d(in_channels),\n",
    "            nn.ReLU()\n",
    "        )\n",
    "    def forward(self, X):\n",
    "        out1 = self.conv1(X)\n",
    "        out2 = self.conv2(X)\n",
    "        conc = torch.concat((out1,out2), dim =1)\n",
    "        return conc        "
   ]
  },
  {
   "cell_type": "code",
   "execution_count": 141,
   "id": "17c16a2c",
   "metadata": {},
   "outputs": [
    {
     "data": {
      "text/plain": [
       "(torch.Size([625, 256, 10]), torch.Size([625, 32, 10]))"
      ]
     },
     "execution_count": 141,
     "metadata": {},
     "output_type": "execute_result"
    }
   ],
   "source": [
    "a= torch.rand((625,32,10))\n",
    "model = nn.Sequential(\n",
    "            DualConv(32),\n",
    "            DualConv(64),\n",
    "            DualConv(128)\n",
    ")\n",
    "y = model(a)\n",
    "y.shape, a.shape"
   ]
  },
  {
   "cell_type": "code",
   "execution_count": 5,
   "metadata": {},
   "outputs": [
    {
     "name": "stdout",
     "output_type": "stream",
     "text": [
      "Overwriting SicsbdMOSFET_model.py\n"
     ]
    }
   ],
   "source": [
    "%%writefile SicsbdMOSFET_model.py\n",
    "import torch\n",
    "import torch.nn as nn\n",
    "from dualbranchconvolution import DualConv\n",
    "class SicsbdMOSFET(nn.Module):\n",
    "    def __init__(self):\n",
    "        super().__init__()\n",
    "        self.fc1 = nn.Sequential(\n",
    "            nn.Linear(in_features=4, out_features=64),\n",
    "            nn.BatchNorm1d(64),\n",
    "            nn.ReLU(),\n",
    "            nn.Linear(64,128),\n",
    "            nn.BatchNorm1d(128),\n",
    "            nn.ReLU(),\n",
    "            nn.Linear(128,320),\n",
    "            nn.BatchNorm1d(320),\n",
    "            nn.ReLU()\n",
    "        )\n",
    "        self.reshape = (64,5)\n",
    "        self.transposed_cnn = nn.Sequential(\n",
    "            nn.ConvTranspose1d(in_channels=64,out_channels=32,kernel_size=1),\n",
    "            nn.BatchNorm1d(32),\n",
    "            nn.ReLU()\n",
    "        )\n",
    "        self.dualcnn = nn.Sequential(\n",
    "            DualConv(32),\n",
    "            DualConv(64),\n",
    "            DualConv(128)\n",
    "        )\n",
    "        self.cnn = nn.Sequential(\n",
    "            nn.Conv1d(256, 128, 3, 1, 1),\n",
    "            nn.BatchNorm1d(128),\n",
    "            nn.ReLU(),\n",
    "            nn.Conv1d(128, 64, 3, 1, 1),\n",
    "            nn.BatchNorm1d(64),\n",
    "            nn.ReLU(),\n",
    "            nn.Conv1d(64, 32, 3, 1, 1),\n",
    "            nn.BatchNorm1d(32),\n",
    "            nn.ReLU(),\n",
    "        )\n",
    "        \n",
    "        self.fc2 = nn.Sequential(\n",
    "         nn.Flatten(),\n",
    "         nn.Linear(32*5, 64),\n",
    "         nn.BatchNorm1d(64),\n",
    "         nn.ReLU(),\n",
    "         nn.Linear(64, 32),\n",
    "         nn.BatchNorm1d(32),\n",
    "         nn.ReLU(),\n",
    "         nn.Linear(32, 4),            \n",
    "        )\n",
    "    def forward(self, X):\n",
    "        X = self.fc1(X)\n",
    "        print(\"After fc1\",X.shape)\n",
    "        X = X.view(X.shape[0], *self.reshape)     \n",
    "        print(\"before transposed\",X.shape)   \n",
    "        X = self.transposed_cnn(X)\n",
    "        print(\"after transposed\",X.shape)\n",
    "        X = self.dualcnn(X)\n",
    "        print(\"after dualcnn\",X.shape)\n",
    "        X = self.cnn(X)\n",
    "        print(\"after cnn\",X.shape)\n",
    "        X = self.fc2(X)\n",
    "        print(\"Final shape: \",X.shape)\n",
    "        return X"
   ]
  },
  {
   "cell_type": "code",
   "execution_count": 163,
   "id": "1e3f62a2",
   "metadata": {},
   "outputs": [],
   "source": [
    "model = SicsbdMOSFET()"
   ]
  },
  {
   "cell_type": "code",
   "execution_count": 164,
   "id": "df18f52b",
   "metadata": {},
   "outputs": [],
   "source": [
    "X = torch.rand((625,4))"
   ]
  },
  {
   "cell_type": "code",
   "execution_count": 168,
   "id": "dcb70566",
   "metadata": {},
   "outputs": [
    {
     "name": "stdout",
     "output_type": "stream",
     "text": [
      "After fc1 torch.Size([625, 320])\n",
      "before transposed torch.Size([625, 64, 5])\n",
      "after transposed torch.Size([625, 32, 5])\n",
      "after dualcnn torch.Size([625, 256, 5])\n",
      "after cnn torch.Size([625, 32, 5])\n",
      "Final shape:  torch.Size([625, 4])\n"
     ]
    }
   ],
   "source": [
    "y_pred = model(X)"
   ]
  },
  {
   "cell_type": "code",
   "execution_count": 169,
   "id": "4497a7a4",
   "metadata": {},
   "outputs": [
    {
     "data": {
      "text/plain": [
       "torch.Size([625, 4])"
      ]
     },
     "execution_count": 169,
     "metadata": {},
     "output_type": "execute_result"
    }
   ],
   "source": [
    "y_pred.shape"
   ]
  }
 ],
 "metadata": {
  "kernelspec": {
   "display_name": "globalenv",
   "language": "python",
   "name": "python3"
  },
  "language_info": {
   "codemirror_mode": {
    "name": "ipython",
    "version": 3
   },
   "file_extension": ".py",
   "mimetype": "text/x-python",
   "name": "python",
   "nbconvert_exporter": "python",
   "pygments_lexer": "ipython3",
   "version": "3.12.3"
  }
 },
 "nbformat": 4,
 "nbformat_minor": 5
}
